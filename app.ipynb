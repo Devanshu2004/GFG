{
  "cells": [
    {
      "cell_type": "code",
      "execution_count": null,
      "metadata": {
        "id": "qvWdLYq63x70"
      },
      "outputs": [],
      "source": [
        "from flask import Flask, render_template, request, jsonify\n",
        "import pandas as pd\n",
        "import requests\n",
        "from sklearn.ensemble import RandomForestClassifier\n",
        "from sklearn.preprocessing import LabelEncoder"
      ]
    },
    {
      "cell_type": "code",
      "execution_count": null,
      "metadata": {
        "colab": {
          "base_uri": "https://localhost:8080/"
        },
        "id": "IZgXXolY4Pgp",
        "outputId": "36bc0ca8-7256-4ce7-8523-2c97f5ef4c81"
      },
      "outputs": [
        {
          "name": "stdout",
          "output_type": "stream",
          "text": [
            "Medals Data:-\n",
            "\n",
            "discipline_title             0\n",
            "slug_game                    0\n",
            "event_title                  0\n",
            "event_gender                 0\n",
            "medal_type                   0\n",
            "participant_type             0\n",
            "participant_title        15113\n",
            "athlete_url               4670\n",
            "athlete_full_name         3624\n",
            "country_name                 0\n",
            "country_code              1502\n",
            "country_3_letter_code        0\n",
            "dtype: int64\n"
          ]
        }
      ],
      "source": [
        "medals_data = pd.read_csv('medals.csv')\n",
        "\n",
        "print(\"Medals Data:-\\n\")\n",
        "print(medals_data.isnull().sum())"
      ]
    },
    {
      "cell_type": "code",
      "execution_count": null,
      "metadata": {
        "colab": {
          "base_uri": "https://localhost:8080/"
        },
        "id": "qxo0bRRr6LRE",
        "outputId": "d21f1fe9-51cf-4332-9d5d-db1b9fa3d4ad"
      },
      "outputs": [
        {
          "name": "stdout",
          "output_type": "stream",
          "text": [
            "discipline_title            0\n",
            "slug_game                   0\n",
            "event_title                 0\n",
            "event_gender                0\n",
            "medal_type                  0\n",
            "participant_type            0\n",
            "athlete_full_name        3624\n",
            "country_name                0\n",
            "country_3_letter_code       0\n",
            "dtype: int64\n"
          ]
        }
      ],
      "source": [
        "medals_data.drop('participant_title', inplace=True, axis=1)\n",
        "medals_data.drop('country_code', inplace=True, axis=1)\n",
        "medals_data.drop('athlete_url', inplace=True, axis=1)\n",
        "print(medals_data.isnull().sum())"
      ]
    },
    {
      "cell_type": "code",
      "execution_count": null,
      "metadata": {
        "colab": {
          "base_uri": "https://localhost:8080/"
        },
        "id": "116KQskl7099",
        "outputId": "bc0e7dca-f09c-422b-90dc-c8d7b9ca2597"
      },
      "outputs": [
        {
          "name": "stdout",
          "output_type": "stream",
          "text": [
            "discipline_title         0\n",
            "slug_game                0\n",
            "event_title              0\n",
            "event_gender             0\n",
            "medal_type               0\n",
            "participant_type         0\n",
            "athlete_full_name        0\n",
            "country_name             0\n",
            "country_3_letter_code    0\n",
            "dtype: int64\n"
          ]
        }
      ],
      "source": [
        "medals_data.dropna(inplace = True)\n",
        "\n",
        "print(medals_data.isnull().sum())"
      ]
    },
    {
      "cell_type": "code",
      "execution_count": null,
      "metadata": {
        "colab": {
          "base_uri": "https://localhost:8080/"
        },
        "id": "hpzhe0719DZd",
        "outputId": "4bd4f8a2-3ce5-45a7-b182-88ab1dad7a00"
      },
      "outputs": [
        {
          "name": "stdout",
          "output_type": "stream",
          "text": [
            "      discipline_title     slug_game                      event_title  \\\n",
            "0              Curling  beijing-2022                    Mixed Doubles   \n",
            "1              Curling  beijing-2022                    Mixed Doubles   \n",
            "2              Curling  beijing-2022                    Mixed Doubles   \n",
            "3              Curling  beijing-2022                    Mixed Doubles   \n",
            "4              Curling  beijing-2022                    Mixed Doubles   \n",
            "...                ...           ...                              ...   \n",
            "21692    Weightlifting   athens-1896  heavyweight - one hand lift men   \n",
            "21693    Weightlifting   athens-1896  heavyweight - one hand lift men   \n",
            "21694    Weightlifting   athens-1896  heavyweight - two hand lift men   \n",
            "21695    Weightlifting   athens-1896  heavyweight - two hand lift men   \n",
            "21696    Weightlifting   athens-1896  heavyweight - two hand lift men   \n",
            "\n",
            "      event_gender medal_type participant_type        athlete_full_name  \\\n",
            "0            Mixed       GOLD         GameTeam     Stefania CONSTANTINI   \n",
            "1            Mixed       GOLD         GameTeam             Amos MOSANER   \n",
            "2            Mixed     SILVER         GameTeam         Kristin SKASLIEN   \n",
            "3            Mixed     SILVER         GameTeam       Magnus NEDREGOTTEN   \n",
            "4            Mixed     BRONZE         GameTeam            Almida DE VAL   \n",
            "...            ...        ...              ...                      ...   \n",
            "21692          Men     SILVER          Athlete             Viggo JENSEN   \n",
            "21693          Men     BRONZE          Athlete  Alexandros Nikolopoulos   \n",
            "21694          Men       GOLD          Athlete             Viggo JENSEN   \n",
            "21695          Men     SILVER          Athlete        Launceston ELLIOT   \n",
            "21696          Men     BRONZE          Athlete          Sotirios VERSIS   \n",
            "\n",
            "        country_name country_3_letter_code  \n",
            "0              Italy                   ITA  \n",
            "1              Italy                   ITA  \n",
            "2             Norway                   NOR  \n",
            "3             Norway                   NOR  \n",
            "4             Sweden                   SWE  \n",
            "...              ...                   ...  \n",
            "21692        Denmark                   DEN  \n",
            "21693         Greece                   GRE  \n",
            "21694        Denmark                   DEN  \n",
            "21695  Great Britain                   GBR  \n",
            "21696         Greece                   GRE  \n",
            "\n",
            "[18073 rows x 9 columns]\n"
          ]
        }
      ],
      "source": [
        "print(medals_data)"
      ]
    },
    {
      "cell_type": "code",
      "execution_count": null,
      "metadata": {
        "id": "aJy6M-Cx-btO"
      },
      "outputs": [],
      "source": [
        "enc = LabelEncoder()\n",
        "\n",
        "# Converting alphanumeric to numeric for training data\n",
        "medals_data['discipline_title'] = enc.fit_transform(medals_data['discipline_title'])\n",
        "medals_data['slug_game'] = enc.fit_transform(medals_data['slug_game'])\n",
        "medals_data['event_title'] = enc.fit_transform(medals_data['event_title'])\n",
        "medals_data['event_gender'] = enc.fit_transform(medals_data['event_gender'])\n",
        "medals_data['medal_type'] = enc.fit_transform(medals_data['medal_type'])\n",
        "medals_data['participant_type'] = enc.fit_transform(medals_data['participant_type'])\n",
        "medals_data['athlete_full_name'] = enc.fit_transform(medals_data['athlete_full_name'])\n",
        "medals_data['country_name'] = enc.fit_transform(medals_data['country_name'])\n",
        "medals_data['country_3_letter_code'] = enc.fit_transform(medals_data['country_3_letter_code'])\n"
      ]
    },
    {
      "cell_type": "code",
      "execution_count": null,
      "metadata": {
        "colab": {
          "base_uri": "https://localhost:8080/"
        },
        "id": "DzzC0mLF_6Ik",
        "outputId": "f36f5422-65ad-43df-f9ac-3bd57d20b98f"
      },
      "outputs": [
        {
          "name": "stdout",
          "output_type": "stream",
          "text": [
            "       discipline_title  slug_game  event_title  event_gender  medal_type  \\\n",
            "0                    16          8          795             1           1   \n",
            "1                    16          8          795             1           1   \n",
            "2                    16          8          795             1           2   \n",
            "3                    16          8          795             1           2   \n",
            "4                    16          8          795             1           0   \n",
            "...                 ...        ...          ...           ...         ...   \n",
            "21692                65          3         1077             0           2   \n",
            "21693                65          3         1077             0           0   \n",
            "21694                65          3         1078             0           1   \n",
            "21695                65          3         1078             0           2   \n",
            "21696                65          3         1078             0           0   \n",
            "\n",
            "       participant_type  athlete_full_name  country_name  \\\n",
            "0                     1              10897            65   \n",
            "1                     1                594            65   \n",
            "2                     1               6848            93   \n",
            "3                     1               7516            93   \n",
            "4                     1                554           124   \n",
            "...                 ...                ...           ...   \n",
            "21692                 0              11900            33   \n",
            "21693                 0                436            50   \n",
            "21694                 0              11900            33   \n",
            "21695                 0               7017            49   \n",
            "21696                 0              10839            50   \n",
            "\n",
            "       country_3_letter_code  \n",
            "0                         67  \n",
            "1                         67  \n",
            "2                         96  \n",
            "3                         96  \n",
            "4                        124  \n",
            "...                      ...  \n",
            "21692                     32  \n",
            "21693                     51  \n",
            "21694                     32  \n",
            "21695                     46  \n",
            "21696                     51  \n",
            "\n",
            "[18073 rows x 9 columns]\n"
          ]
        }
      ],
      "source": [
        "print(medals_data)"
      ]
    },
    {
      "cell_type": "code",
      "execution_count": null,
      "metadata": {
        "colab": {
          "base_uri": "https://localhost:8080/"
        },
        "id": "L55M1CVp2zEC",
        "outputId": "d9719f69-847d-4c7d-f16f-b30305e61f8d"
      },
      "outputs": [
        {
          "name": "stdout",
          "output_type": "stream",
          "text": [
            " * Serving Flask app '__main__'\n",
            " * Debug mode: on\n"
          ]
        },
        {
          "name": "stderr",
          "output_type": "stream",
          "text": [
            "INFO:werkzeug:\u001b[31m\u001b[1mWARNING: This is a development server. Do not use it in a production deployment. Use a production WSGI server instead.\u001b[0m\n",
            " * Running on http://127.0.0.1:5000\n",
            "INFO:werkzeug:\u001b[33mPress CTRL+C to quit\u001b[0m\n",
            "INFO:werkzeug: * Restarting with stat\n"
          ]
        }
      ],
      "source": [
        "# app.py\n",
        "\n",
        "app = Flask(__name__)\n",
        "\n",
        "# Constants for API integration (Replace with real API details)\n",
        "API_BASE_URL = 'https://api.olympic-games.com/'\n",
        "SCHEDULE_ENDPOINT = 'schedule/'\n",
        "MEDAL_PREDICTION_ENDPOINT = 'medal-prediction/'\n",
        "\n",
        "\n",
        "\n",
        "\n",
        "# Load and preprocess the provided dataset\n",
        "df = pd.get_dummies(medals_data, columns=['discipline_title', 'event_title', 'country_name'])\n",
        "\n",
        "# Prepare data for training the machine learning model\n",
        "X = df.drop('medal_type', axis=1)\n",
        "y = df['medal_type']\n",
        "model = RandomForestClassifier(random_state=42)\n",
        "model.fit(X, y)\n",
        "\n",
        "\n",
        "\n",
        "\n",
        "# Helper functions for API integration\n",
        "# Sample schedule data (Replace with actual API response)\n",
        "dummy_schedule_data = [\n",
        "    {\n",
        "        \"event_id\": 1,\n",
        "        \"event_title\": \"Swimming - Men's 100m Freestyle\",\n",
        "        \"event_date\": \"2023-07-28\",\n",
        "        \"event_time\": \"10:00:00\",\n",
        "        \"venue\": \"Aquatics Center\",\n",
        "        \"location\": \"Tokyo, Japan\"\n",
        "    },\n",
        "    {\n",
        "        \"event_id\": 2,\n",
        "        \"event_title\": \"Athletics - Women's 400m Final\",\n",
        "        \"event_date\": \"2023-07-28\",\n",
        "        \"event_time\": \"18:30:00\",\n",
        "        \"venue\": \"Olympic Stadium\",\n",
        "        \"location\": \"Tokyo, Japan\"\n",
        "    },\n",
        "    {\n",
        "        \"event_id\": 3,\n",
        "        \"event_title\": \"Basketball - Men's Semifinal\",\n",
        "        \"event_date\": \"2023-07-29\",\n",
        "        \"event_time\": \"14:00:00\",\n",
        "        \"venue\": \"Saitama Super Arena\",\n",
        "        \"location\": \"Saitama, Japan\"\n",
        "    },\n",
        "    # Add more events here\n",
        "]\n",
        "\n",
        "def fetch_schedule():\n",
        "    # Replace this dummy data with actual API request and response handling\n",
        "    return dummy_schedule_data\n",
        "\n",
        "'''\n",
        "def fetch_schedule():\n",
        "    try:\n",
        "        response = requests.get(API_BASE_URL + SCHEDULE_ENDPOINT)\n",
        "        if response.status_code == 200:\n",
        "            schedule_data = response.json()\n",
        "            return schedule_data\n",
        "    except requests.RequestException as e:\n",
        "        print(f\"Error fetching schedule: {e}\")\n",
        "    return None\n",
        "\n",
        "    ---------------As we were not able to get an API for live schedule we used dummy data\n",
        "            but the proper code for a live API is in this docstring---------------\n",
        "'''\n",
        "\n",
        "\n",
        "\n",
        "\n",
        "\n",
        "# Sample dataset (Replace with the actual dataset)\n",
        "\n",
        "df = medals_data\n",
        "\n",
        "def fetch_medal_prediction(event_id):\n",
        "    # Filter the dataset for the given event_id\n",
        "    event_data = df[df['event_id'] == event_id]\n",
        "\n",
        "    if event_data.empty:\n",
        "        return None\n",
        "\n",
        "    # Group the data by country and count the number of each medal type (Gold, Silver, Bronze)\n",
        "    medal_counts = event_data['medal_type'].value_counts()\n",
        "\n",
        "    # Get the most common medal (Gold, if tied, take the first one)\n",
        "    most_common_medal = medal_counts.idxmax()\n",
        "\n",
        "    # Get the country/countries with the most common medal\n",
        "    predicted_countries = list(event_data[event_data['medal_type'] == most_common_medal]['country_name'].unique())\n",
        "\n",
        "    # Prepare the medal prediction data\n",
        "    medal_prediction_data = {\n",
        "        \"event_id\": event_id,\n",
        "        \"event_title\": event_data['event_title'].iloc[0],  # Assume the event title is the same for all rows of the event\n",
        "        \"medal\": most_common_medal,\n",
        "        \"predicted_countries\": predicted_countries\n",
        "    }\n",
        "\n",
        "    return medal_prediction_data\n",
        "\n",
        "\n",
        "\n",
        "\n",
        "\n",
        "# Flask routes for different app sections\n",
        "@app.route('/')\n",
        "def home():\n",
        "    return render_template('index.html')\n",
        "\n",
        "@app.route('/schedule')\n",
        "def schedule():\n",
        "    schedule_data = fetch_schedule()\n",
        "    return render_template('schedule.html', schedule_data=schedule_data)\n",
        "\n",
        "@app.route('/predict_medal', methods=['POST'])\n",
        "def predict_medal():\n",
        "    if request.method == 'POST':\n",
        "        event_id = request.form['event_id']\n",
        "        medal_prediction = fetch_medal_prediction(event_id)\n",
        "        return render_template('medal_prediction.html', medal_prediction=medal_prediction)\n",
        "\n",
        "\n",
        "\n",
        "\n",
        "\n",
        "# Sample dataset (Replace with the actual dataset)\n",
        "df = medals_data\n",
        "\n",
        "@app.route('/data_insights')\n",
        "def data_insights():\n",
        "    # Calculate the total number of medals won by each country\n",
        "    country_medal_counts = df.groupby('country_name')['medal_type'].value_counts().unstack().fillna(0)\n",
        "\n",
        "    # Calculate the total number of medals won by each participant\n",
        "    participant_medal_counts = df.groupby('athlete_full_name')['medal_type'].value_counts().unstack().fillna(0)\n",
        "\n",
        "    # Get the most successful country (highest total medals)\n",
        "    most_successful_country = country_medal_counts.sum(axis=1).idxmax()\n",
        "\n",
        "    # Get the top-performing athlete (highest total medals)\n",
        "    top_performing_athlete = participant_medal_counts.sum(axis=1).idxmax()\n",
        "\n",
        "    # Prepare the data insights\n",
        "    data_insights = {\n",
        "        \"most_successful_country\": most_successful_country,\n",
        "        \"top_performing_athlete\": top_performing_athlete,\n",
        "        \"country_medal_counts\": country_medal_counts.to_dict(),\n",
        "        \"participant_medal_counts\": participant_medal_counts.to_dict(),\n",
        "    }\n",
        "\n",
        "    return render_template('data_insights.html', data_insights=data_insights)\n",
        "\n",
        "\n",
        "\n",
        "if __name__ == '__main__':\n",
        "    app.run(debug=True)\n"
      ]
    }
  ],
  "metadata": {
    "colab": {
      "provenance": []
    },
    "kernelspec": {
      "display_name": "Python 3",
      "name": "python3"
    },
    "language_info": {
      "name": "python",
      "version": "3.11.1"
    }
  },
  "nbformat": 4,
  "nbformat_minor": 0
}
